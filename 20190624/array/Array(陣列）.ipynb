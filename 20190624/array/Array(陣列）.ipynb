{
 "cells": [
  {
   "cell_type": "markdown",
   "metadata": {},
   "source": [
    "## Array Manipulation"
   ]
  },
  {
   "cell_type": "code",
   "execution_count": 96,
   "metadata": {},
   "outputs": [
    {
     "name": "stdout",
     "output_type": "stream",
     "text": [
      "The new created array is :  1 2 3 "
     ]
    }
   ],
   "source": [
    "# importing \"array\" for array operations \n",
    "import array \n",
    "\n",
    "# initializing array with array values \n",
    "# initializes array with signed integers \n",
    "arr = array.array('i', [1, 2, 3]) \n",
    "\n",
    "# printing original array \n",
    "print (\"The new created array is : \",end=\" \") \n",
    "for i in range (0, 3): \n",
    "\tprint (arr[i], end=\" \") \n"
   ]
  },
  {
   "cell_type": "code",
   "execution_count": 97,
   "metadata": {},
   "outputs": [
    {
     "name": "stdout",
     "output_type": "stream",
     "text": [
      "The appended array is : 1 2 3 4 "
     ]
    }
   ],
   "source": [
    "# using append() to insert new value at end \n",
    "arr.append(4); \n",
    "\n",
    "# printing appended array \n",
    "print(\"The appended array is : \", end=\"\") \n",
    "for i in range (0, 4): \n",
    "\tprint (arr[i], end=\" \") \n"
   ]
  },
  {
   "cell_type": "code",
   "execution_count": 98,
   "metadata": {},
   "outputs": [
    {
     "name": "stdout",
     "output_type": "stream",
     "text": [
      "The array after insertion is : 1 2 5 3 4 "
     ]
    }
   ],
   "source": [
    "# using insert() to insert value at specific position \n",
    "# inserts 5 at 2nd position \n",
    "arr.insert(2, 5) \n",
    "\n",
    "# printing array after insertion \n",
    "print (\"The array after insertion is : \", end=\"\") \n",
    "for i in range (0, 5): \n",
    "    print(arr[i], end=\" \") \n"
   ]
  },
  {
   "cell_type": "code",
   "execution_count": 99,
   "metadata": {},
   "outputs": [
    {
     "name": "stdout",
     "output_type": "stream",
     "text": [
      "The popped element is : 5\n",
      "The array after popping is : 1 2 3 4 "
     ]
    }
   ],
   "source": [
    "# using pop() to remove element at 2nd position \n",
    "print (\"The popped element is : \",end=\"\") \n",
    "print (arr.pop(2)); \n",
    "# printing array after popping \n",
    "print (\"The array after popping is : \",end=\"\") \n",
    "for i in range (0,4): \n",
    "\tprint (arr[i],end=\" \") "
   ]
  },
  {
   "cell_type": "code",
   "execution_count": 100,
   "metadata": {},
   "outputs": [
    {
     "name": "stdout",
     "output_type": "stream",
     "text": [
      "The array after removing is : 2 3 4 "
     ]
    }
   ],
   "source": [
    "# using remove() to remove 1st occurrence of 1 \n",
    "arr.remove(1) \n",
    "\n",
    "# printing array after removing \n",
    "print (\"The array after removing is : \",end=\"\") \n",
    "for i in range (0,3): \n",
    "\tprint (arr[i],end=\" \") "
   ]
  },
  {
   "cell_type": "code",
   "execution_count": 101,
   "metadata": {},
   "outputs": [
    {
     "name": "stdout",
     "output_type": "stream",
     "text": [
      "The index of 1st occurrence of 2 is : 0\n",
      "The array after reversing is : 4 3 2 "
     ]
    }
   ],
   "source": [
    "# using index() to print index of 1st occurrenece of 2 \n",
    "print (\"The index of 1st occurrence of 2 is : \",end=\"\") \n",
    "print (arr.index(2)) \n",
    "\n",
    "#using reverse() to reverse the array \n",
    "arr.reverse() \n",
    "\n",
    "# printing array after reversing \n",
    "print (\"The array after reversing is : \",end=\"\") \n",
    "for i in range (0,3): \n",
    "\tprint (arr[i],end=\" \") \n"
   ]
  },
  {
   "cell_type": "markdown",
   "metadata": {},
   "source": [
    "## 矩陣相加"
   ]
  },
  {
   "cell_type": "code",
   "execution_count": 85,
   "metadata": {},
   "outputs": [],
   "source": [
    "A = [[1,3,5],[7,9,11],[13,15,17]]\n",
    "B = [[9,8,7],[6,5,4],[3,2,1]]\n",
    "n = 3\n",
    "C = [[None] * n for row in range(n)]"
   ]
  },
  {
   "cell_type": "code",
   "execution_count": 86,
   "metadata": {},
   "outputs": [
    {
     "name": "stdout",
     "output_type": "stream",
     "text": [
      "矩陣A和矩陣B的相加結果：\n",
      "10\t11\t12\t\n",
      "13\t14\t15\t\n",
      "16\t17\t18\t\n"
     ]
    }
   ],
   "source": [
    "for i in range(3):\n",
    "    for j in range(3):\n",
    "        C[i][j] = A[i][j] + B[i][j]\n",
    "print('矩陣A和矩陣B的相加結果：')\n",
    "for i in range(3):\n",
    "    for j in range(3):\n",
    "        print('%d' %C[i][j], end='\\t')\n",
    "    print()"
   ]
  },
  {
   "cell_type": "markdown",
   "metadata": {},
   "source": [
    "## 轉置矩陣"
   ]
  },
  {
   "cell_type": "code",
   "execution_count": 87,
   "metadata": {},
   "outputs": [],
   "source": [
    "A = [[1,3,5,6],[7,9,11,8],[13,15,17,9]]"
   ]
  },
  {
   "cell_type": "code",
   "execution_count": 88,
   "metadata": {},
   "outputs": [],
   "source": [
    "B = [[None] * 3 for r in range(4)]"
   ]
  },
  {
   "cell_type": "code",
   "execution_count": 89,
   "metadata": {},
   "outputs": [
    {
     "name": "stdout",
     "output_type": "stream",
     "text": [
      "原矩陣：\n",
      "1\t3\t5\t6\t\n",
      "7\t9\t11\t8\t\n",
      "13\t15\t17\t9\t\n"
     ]
    }
   ],
   "source": [
    "print('原矩陣：')\n",
    "for r in range(3):\n",
    "    for c in range(4):\n",
    "        print('%d' %A[r][c], end='\\t')\n",
    "    print()"
   ]
  },
  {
   "cell_type": "code",
   "execution_count": 90,
   "metadata": {},
   "outputs": [
    {
     "name": "stdout",
     "output_type": "stream",
     "text": [
      "轉置矩陣：\n",
      "1\t7\t13\t\n",
      "3\t9\t15\t\n",
      "5\t11\t17\t\n",
      "6\t8\t9\t\n"
     ]
    }
   ],
   "source": [
    "print('轉置矩陣：')\n",
    "for r in range(4):\n",
    "    for c in range(3):\n",
    "        B[r][c] = A[c][r]\n",
    "        print('%d' %B[r][c], end='\\t')\n",
    "    print()"
   ]
  },
  {
   "cell_type": "markdown",
   "metadata": {},
   "source": [
    "## 稀疏矩陣"
   ]
  },
  {
   "cell_type": "code",
   "execution_count": 91,
   "metadata": {},
   "outputs": [],
   "source": [
    "NONZERO = 0\n",
    "temp = 1\n",
    "Sparse = [[15,0,0,22,0,-15],[0,11,3,0,0,0],[0,0,0,-6,0,0],[0,0,0,0,0,0],[91,0,0,0,0,0],[0,0,28,0,0,0]]\n",
    "Compress = [[None] * 3 for row in range(9)] # 宣告壓縮矩陣"
   ]
  },
  {
   "cell_type": "code",
   "execution_count": 92,
   "metadata": {},
   "outputs": [
    {
     "name": "stdout",
     "output_type": "stream",
     "text": [
      "稀疏矩陣的元素\n",
      "[15]\t[0]\t[0]\t[22]\t[0]\t[-15]\t\n",
      "[0]\t[11]\t[3]\t[0]\t[0]\t[0]\t\n",
      "[0]\t[0]\t[0]\t[-6]\t[0]\t[0]\t\n",
      "[0]\t[0]\t[0]\t[0]\t[0]\t[0]\t\n",
      "[91]\t[0]\t[0]\t[0]\t[0]\t[0]\t\n",
      "[0]\t[0]\t[28]\t[0]\t[0]\t[0]\t\n"
     ]
    }
   ],
   "source": [
    "print('稀疏矩陣的元素')\n",
    "for i in range(6):\n",
    "    for j in range(6):\n",
    "        print('[%d]'%Sparse[i][j], end='\\t')\n",
    "        if Sparse[i][j] != 0:\n",
    "            NONZERO=NONZERO+1\n",
    "    print()"
   ]
  },
  {
   "cell_type": "code",
   "execution_count": 93,
   "metadata": {},
   "outputs": [
    {
     "name": "stdout",
     "output_type": "stream",
     "text": [
      "稀疏矩陣壓縮後內容\n",
      "[6]\t[6]\t[8]\t\n",
      "[0]\t[0]\t[15]\t\n",
      "[0]\t[3]\t[22]\t\n",
      "[0]\t[5]\t[-15]\t\n",
      "[1]\t[1]\t[11]\t\n",
      "[1]\t[2]\t[3]\t\n",
      "[2]\t[3]\t[-6]\t\n",
      "[4]\t[0]\t[91]\t\n",
      "[5]\t[2]\t[28]\t\n"
     ]
    }
   ],
   "source": [
    "Compress[0][0] = 6\n",
    "Compress[0][1] = 6\n",
    "Compress[0][2] = NONZERO\n",
    "\n",
    "for i in range(6):\n",
    "    for j in range(6):\n",
    "        if Sparse[i][j] !=0:\n",
    "            Compress[temp][0] = i\n",
    "            Compress[temp][1] = j\n",
    "            Compress[temp][2] = Sparse[i][j]\n",
    "            temp=temp+1\n",
    "\n",
    "print('稀疏矩陣壓縮後內容')\n",
    "for i in range(NONZERO+1):\n",
    "    for j in range(3):\n",
    "        print('[%d]'%Compress[i][j], end='\\t')\n",
    "    print()\n",
    "            "
   ]
  },
  {
   "cell_type": "markdown",
   "metadata": {},
   "source": [
    "## 上三角形矩陣"
   ]
  },
  {
   "cell_type": "code",
   "execution_count": 94,
   "metadata": {},
   "outputs": [
    {
     "name": "stdout",
     "output_type": "stream",
     "text": [
      "壓縮為一維陣列\n",
      " 7 8 12 21 9 5 14 17 6 7 23 24 32 19 8"
     ]
    }
   ],
   "source": [
    "global ARRAY_SIZE\n",
    "ARRAY_SIZE = 5\n",
    "\n",
    "num = int(ARRAY_SIZE *(1+ARRAY_SIZE)/2)\n",
    "B = [None] * (num +1)\n",
    "\n",
    "def getValue(i,j):\n",
    "    index = int(ARRAY_SIZE*i - i*(i+1)/2 +j)\n",
    "    return B[index]\n",
    "\n",
    "# 上三角矩陣內容\n",
    "A = [[7, 8,12,21, 9],\n",
    "     [0, 5,14,17, 6],\n",
    "     [0, 0, 7,23,24],\n",
    "     [0, 0, 0,32,19],\n",
    "     [0, 0, 0, 0, 8]]\n",
    "\n",
    "print('壓縮為一維陣列')\n",
    "index = 0\n",
    "for i in range(ARRAY_SIZE):\n",
    "    for j in range(ARRAY_SIZE):\n",
    "        if(A[i][j]!=0):\n",
    "            index=index+1\n",
    "            B[index] = A[i][j]\n",
    "\n",
    "for i in range(ARRAY_SIZE):\n",
    "    for j in range(i+1, ARRAY_SIZE+1):\n",
    "        print(' %d'%getValue(i,j), end='')"
   ]
  },
  {
   "cell_type": "code",
   "execution_count": null,
   "metadata": {},
   "outputs": [],
   "source": []
  },
  {
   "cell_type": "code",
   "execution_count": null,
   "metadata": {},
   "outputs": [],
   "source": []
  },
  {
   "cell_type": "code",
   "execution_count": null,
   "metadata": {},
   "outputs": [],
   "source": []
  },
  {
   "cell_type": "code",
   "execution_count": null,
   "metadata": {},
   "outputs": [],
   "source": []
  },
  {
   "cell_type": "code",
   "execution_count": null,
   "metadata": {},
   "outputs": [],
   "source": []
  },
  {
   "cell_type": "code",
   "execution_count": null,
   "metadata": {},
   "outputs": [],
   "source": []
  },
  {
   "cell_type": "code",
   "execution_count": null,
   "metadata": {},
   "outputs": [],
   "source": []
  },
  {
   "cell_type": "code",
   "execution_count": 95,
   "metadata": {},
   "outputs": [
    {
     "name": "stdout",
     "output_type": "stream",
     "text": [
      "4\n",
      "4 3 \n",
      "3 4 \n"
     ]
    }
   ],
   "source": [
    "# Python 3 Program to Find minimum \n",
    "# number of operation required such \n",
    "# that sum of elements on each row \n",
    "# and column becomes same \n",
    "\n",
    "# Function to find minimum operation \n",
    "# required to make sum of each row \n",
    "# and column equals \n",
    "def findMinOpeartion(matrix, n): \n",
    "\n",
    "\t# Initialize the sumRow[] and sumCol[] \n",
    "\t# array to 0 \n",
    "\tsumRow = [0] * n \n",
    "\tsumCol = [0] * n \n",
    "\n",
    "\t# Calculate sumRow[] and sumCol[] array \n",
    "\tfor i in range(n): \n",
    "\t\tfor j in range(n) : \n",
    "\t\t\tsumRow[i] += matrix[i][j] \n",
    "\t\t\tsumCol[j] += matrix[i][j] \n",
    "\n",
    "\t# Find maximum sum value in \n",
    "\t# either row or in column \n",
    "\tmaxSum = 0\n",
    "\tfor i in range(n) : \n",
    "\t\tmaxSum = max(maxSum, sumRow[i]) \n",
    "\t\tmaxSum = max(maxSum, sumCol[i]) \n",
    "\n",
    "\tcount = 0\n",
    "\ti = 0\n",
    "\tj = 0\n",
    "\twhile i < n and j < n : \n",
    "\n",
    "\t\t# Find minimum increment required \n",
    "\t\t# in either row or column \n",
    "\t\tdiff = min(maxSum - sumRow[i], \n",
    "\t\t\t\tmaxSum - sumCol[j]) \n",
    "\n",
    "\t\t# Add difference in corresponding \n",
    "\t\t# cell, sumRow[] and sumCol[] array \n",
    "\t\tmatrix[i][j] += diff \n",
    "\t\tsumRow[i] += diff \n",
    "\t\tsumCol[j] += diff \n",
    "\n",
    "\t\t# Update the count variable \n",
    "\t\tcount += diff \n",
    "\n",
    "\t\t# If ith row satisfied, increment \n",
    "\t\t# ith value for next iteration \n",
    "\t\tif (sumRow[i] == maxSum): \n",
    "\t\t\ti += 1\n",
    "\n",
    "\t\t# If jth column satisfied, increment \n",
    "\t\t# jth value for next iteration \n",
    "\t\tif (sumCol[j] == maxSum): \n",
    "\t\t\tj += 1\n",
    "\t\t\t\n",
    "\treturn count \n",
    "\n",
    "# Utility function to print matrix \n",
    "def printMatrix(matrix, n): \n",
    "\tfor i in range(n) : \n",
    "\t\tfor j in range(n): \n",
    "\t\t\tprint(matrix[i][j], end = \" \") \n",
    "\t\tprint() \n",
    "\n",
    "# Driver code \n",
    "if __name__ == \"__main__\": \n",
    "\tmatrix = [[ 1, 2 ], \n",
    "\t\t\t  [ 3, 4 ]] \n",
    "\tprint(findMinOpeartion(matrix, 2)) \n",
    "\tprintMatrix(matrix, 2) \n",
    "\n",
    "# This code is contributed \n",
    "# by ChitraNayal \n",
    "\n"
   ]
  },
  {
   "cell_type": "code",
   "execution_count": null,
   "metadata": {},
   "outputs": [],
   "source": []
  },
  {
   "cell_type": "code",
   "execution_count": null,
   "metadata": {},
   "outputs": [],
   "source": []
  },
  {
   "cell_type": "code",
   "execution_count": null,
   "metadata": {},
   "outputs": [],
   "source": []
  }
 ],
 "metadata": {
  "kernelspec": {
   "display_name": "Python 3",
   "language": "python",
   "name": "python3"
  },
  "language_info": {
   "codemirror_mode": {
    "name": "ipython",
    "version": 3
   },
   "file_extension": ".py",
   "mimetype": "text/x-python",
   "name": "python",
   "nbconvert_exporter": "python",
   "pygments_lexer": "ipython3",
   "version": "3.7.0"
  }
 },
 "nbformat": 4,
 "nbformat_minor": 2
}

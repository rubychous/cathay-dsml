{
 "cells": [
  {
   "cell_type": "code",
   "execution_count": 1,
   "metadata": {},
   "outputs": [],
   "source": [
    "def create(n):\n",
    "    global Q,front,rear,Maxsize\n",
    "    Maxsize =n\n",
    "    Q = [None]*n\n",
    "    front = -1\n",
    "    rear = -1\n",
    "    print ('Maxsize=',Maxsize)\n",
    "    print ('Q=',Q)\n",
    "    print ('(front,rear)=','(',front,',',rear,')')\n",
    "# ----------------\n",
    "def add(n):\n",
    "    global Q,front,rear,Maxsize\n",
    "    print('-----')\n",
    "    if rear == Maxsize -1 :\n",
    "        print ('False:','已超出Maxsize,無空間加入')\n",
    "    else:\n",
    "        rear = rear+1\n",
    "        Q[rear] = n\n",
    "    print ('Q=',Q)\n",
    "    print ('(front,rear):','(',front,',' ,rear,')')\n",
    "# ----------------\n",
    "def delete():\n",
    "    global Q, front, rear,out,Maxsize\n",
    "    print('-----')\n",
    "    if front == rear:\n",
    "        print ('False:','the Queue is empty.')\n",
    "    else:\n",
    "        front = front+1\n",
    "        out = Q[front]\n",
    "        Q[front] = None\n",
    "        print ('out=',out)\n",
    "    print('Q=',Q)\n",
    "    print('(front ,rear)=','(',front,',',rear,')')\n",
    "# -----------------\n",
    "def front_():\n",
    "    global Q, front, rear, out, Maxsize\n",
    "    print('-----') \n",
    "    if front == rear :\n",
    "        print ('False:','the Queue is empty.')\n",
    "    else:\n",
    "        print ('front_=',Q[front+1])\n",
    "    print('Q=',Q)\n",
    "    print('(front ,rear)=','(',front,',',rear,')')\n",
    "# ------------------\n",
    "def empty():\n",
    "    global Q, front, rear, out,Maxsize\n",
    "    print ('-----')\n",
    "    if front == rear:\n",
    "        print('True,','the Queue is enpty.')\n",
    "    else:\n",
    "        print('Flase,','the Queue is not empty.')"
   ]
  },
  {
   "cell_type": "code",
   "execution_count": null,
   "metadata": {},
   "outputs": [],
   "source": []
  },
  {
   "cell_type": "code",
   "execution_count": 2,
   "metadata": {},
   "outputs": [
    {
     "name": "stdout",
     "output_type": "stream",
     "text": [
      "Maxsize= 5\n",
      "Q= [None, None, None, None, None]\n",
      "(front,rear)= ( -1 , -1 )\n",
      "-----\n",
      "Q= [1, None, None, None, None]\n",
      "(front,rear): ( -1 , 0 )\n",
      "-----\n",
      "Q= [1, 2, None, None, None]\n",
      "(front,rear): ( -1 , 1 )\n",
      "-----\n",
      "Q= [1, 2, 5, None, None]\n",
      "(front,rear): ( -1 , 2 )\n",
      "-----\n",
      "Q= [1, 2, 5, 3, None]\n",
      "(front,rear): ( -1 , 3 )\n",
      "-----\n",
      "Q= [1, 2, 5, 3, 4]\n",
      "(front,rear): ( -1 , 4 )\n"
     ]
    }
   ],
   "source": [
    "create(5)\n",
    "add(1)\n",
    "add(2)\n",
    "add(5)\n",
    "add(3)\n",
    "add(4)"
   ]
  },
  {
   "cell_type": "code",
   "execution_count": 3,
   "metadata": {},
   "outputs": [
    {
     "name": "stdout",
     "output_type": "stream",
     "text": [
      "-----\n",
      "out= 1\n",
      "Q= [None, 2, 5, 3, 4]\n",
      "(front ,rear)= ( 0 , 4 )\n",
      "-----\n",
      "out= 2\n",
      "Q= [None, None, 5, 3, 4]\n",
      "(front ,rear)= ( 1 , 4 )\n",
      "-----\n",
      "out= 5\n",
      "Q= [None, None, None, 3, 4]\n",
      "(front ,rear)= ( 2 , 4 )\n",
      "-----\n",
      "out= 3\n",
      "Q= [None, None, None, None, 4]\n",
      "(front ,rear)= ( 3 , 4 )\n",
      "-----\n",
      "out= 4\n",
      "Q= [None, None, None, None, None]\n",
      "(front ,rear)= ( 4 , 4 )\n"
     ]
    }
   ],
   "source": [
    "R= []\n",
    "for i in range(len(Q)):\n",
    "    delete()\n",
    "    R.append(out)\n",
    "    if i>0 :\n",
    "        j=i\n",
    "        for j in range(j):\n",
    "            A = R.pop(0)\n",
    "            R.append(A)"
   ]
  },
  {
   "cell_type": "code",
   "execution_count": 4,
   "metadata": {},
   "outputs": [
    {
     "data": {
      "text/plain": [
       "[4, 3, 5, 2, 1]"
      ]
     },
     "execution_count": 4,
     "metadata": {},
     "output_type": "execute_result"
    }
   ],
   "source": [
    "R"
   ]
  },
  {
   "cell_type": "code",
   "execution_count": null,
   "metadata": {},
   "outputs": [],
   "source": []
  },
  {
   "cell_type": "code",
   "execution_count": null,
   "metadata": {},
   "outputs": [],
   "source": []
  },
  {
   "cell_type": "code",
   "execution_count": null,
   "metadata": {},
   "outputs": [],
   "source": []
  },
  {
   "cell_type": "code",
   "execution_count": null,
   "metadata": {},
   "outputs": [],
   "source": []
  },
  {
   "cell_type": "code",
   "execution_count": null,
   "metadata": {},
   "outputs": [],
   "source": []
  }
 ],
 "metadata": {
  "kernelspec": {
   "display_name": "Python 3",
   "language": "python",
   "name": "python3"
  },
  "language_info": {
   "codemirror_mode": {
    "name": "ipython",
    "version": 3
   },
   "file_extension": ".py",
   "mimetype": "text/x-python",
   "name": "python",
   "nbconvert_exporter": "python",
   "pygments_lexer": "ipython3",
   "version": "3.7.3"
  }
 },
 "nbformat": 4,
 "nbformat_minor": 2
}

{
 "cells": [
  {
   "cell_type": "code",
   "execution_count": 1,
   "metadata": {},
   "outputs": [],
   "source": [
    "import numpy as np\n",
    "import xgboost as xgb\n",
    "from xgboost import plot_tree\n",
    "import matplotlib.pyplot as plt"
   ]
  },
  {
   "cell_type": "code",
   "execution_count": 2,
   "metadata": {},
   "outputs": [],
   "source": [
    "#x = np.concatenate([np.ones([10,1])*np.array([1,0,0]),np.ones([10,1])*np.array([0,1,0]),np.ones([10,1])*np.array([0,0,1]),np.ones([10,1])*np.array([1,0,1])], axis=0)\n",
    "#y = np.array([['a']*10+['c']*10+['b']*10+['d']*10]).reshape([40,1])"
   ]
  },
  {
   "cell_type": "code",
   "execution_count": 3,
   "metadata": {},
   "outputs": [],
   "source": [
    "x = np.concatenate([np.ones([10,1])*np.array([1,0,0]),np.ones([10,1])*np.array([0,1,0]),np.ones([10,1])*np.array([0,0,1])], axis=0)\n",
    "y = np.array([['a']*10+['c']*10+['b']*10]).reshape([30,1])"
   ]
  },
  {
   "cell_type": "code",
   "execution_count": 4,
   "metadata": {},
   "outputs": [
    {
     "name": "stderr",
     "output_type": "stream",
     "text": [
      "/Users/liouscott/anaconda3/lib/python3.6/site-packages/sklearn/preprocessing/label.py:219: DataConversionWarning: A column-vector y was passed when a 1d array was expected. Please change the shape of y to (n_samples, ), for example using ravel().\n",
      "  y = column_or_1d(y, warn=True)\n",
      "/Users/liouscott/anaconda3/lib/python3.6/site-packages/sklearn/preprocessing/label.py:252: DataConversionWarning: A column-vector y was passed when a 1d array was expected. Please change the shape of y to (n_samples, ), for example using ravel().\n",
      "  y = column_or_1d(y, warn=True)\n"
     ]
    }
   ],
   "source": [
    "model = xgb.XGBClassifier(n_estimators=2, objective='mlogloss').fit(x, y)\n",
    "model._Booster.dump_model('trees.txt')"
   ]
  },
  {
   "cell_type": "code",
   "execution_count": 5,
   "metadata": {
    "scrolled": true
   },
   "outputs": [
    {
     "data": {
      "image/png": "[encoded data removed]",
      "text/plain": [
       "<Figure size 432x288 with 1 Axes>"
      ]
     },
     "metadata": {
      "needs_background": "light"
     },
     "output_type": "display_data"
    }
   ],
   "source": [
    "plot_tree(model, num_trees=0)\n",
    "plt.show()"
   ]
  },
  {
   "cell_type": "code",
   "execution_count": 6,
   "metadata": {},
   "outputs": [
    {
     "data": {
      "image/svg+xml": [
       "<?xml version=\"1.0\" encoding=\"UTF-8\" standalone=\"no\"?>\n",
       "<!DOCTYPE svg PUBLIC \"-//W3C//DTD SVG 1.1//EN\"\n",
       " \"http://www.w3.org/Graphics/SVG/1.1/DTD/svg11.dtd\">\n",
       "<!-- Generated by graphviz version 2.40.1 (20161225.0304)\n",
       " -->\n",
       "<!-- Title: %3 Pages: 1 -->\n",
       "<svg width=\"276pt\" height=\"165pt\"\n",
       " viewBox=\"0.00 0.00 276.00 165.19\" xmlns=\"http://www.w3.org/2000/svg\" xmlns:xlink=\"http://www.w3.org/1999/xlink\">\n",
       "<g id=\"graph0\" class=\"graph\" transform=\"scale(1 1) rotate(0) translate(4 161.1938)\">\n",
       "<title>%3</title>\n",
       "<polygon fill=\"#ffffff\" stroke=\"transparent\" points=\"-4,4 -4,-161.1938 272,-161.1938 272,4 -4,4\"/>\n",
       "<!-- 0 -->\n",
       "<g id=\"node1\" class=\"node\">\n",
       "<title>0</title>\n",
       "<ellipse fill=\"none\" stroke=\"#000000\" cx=\"136.5\" cy=\"-122.0969\" rx=\"35.194\" ry=\"35.194\"/>\n",
       "<text text-anchor=\"middle\" x=\"136.5\" y=\"-118.3969\" font-family=\"Times,serif\" font-size=\"14.00\" fill=\"#000000\">f0&lt;0.5</text>\n",
       "</g>\n",
       "<!-- 1 -->\n",
       "<g id=\"node2\" class=\"node\">\n",
       "<title>1</title>\n",
       "<polygon fill=\"none\" stroke=\"#000000\" points=\"131,-36 0,-36 0,0 131,0 131,-36\"/>\n",
       "<text text-anchor=\"middle\" x=\"65.5\" y=\"-14.3\" font-family=\"Times,serif\" font-size=\"14.00\" fill=\"#000000\">leaf=&#45;0.0674157366</text>\n",
       "</g>\n",
       "<!-- 0&#45;&gt;1 -->\n",
       "<g id=\"edge1\" class=\"edge\">\n",
       "<title>0&#45;&gt;1</title>\n",
       "<path fill=\"none\" stroke=\"#0000ff\" d=\"M116.7225,-93.1001C106.2953,-77.8122 93.6002,-59.1992 83.4572,-44.3281\"/>\n",
       "<polygon fill=\"#0000ff\" stroke=\"#0000ff\" points=\"86.3428,-42.3472 77.8166,-36.058 80.5599,-46.2915 86.3428,-42.3472\"/>\n",
       "<text text-anchor=\"middle\" x=\"134.5\" y=\"-57.8\" font-family=\"Times,serif\" font-size=\"14.00\" fill=\"#000000\">yes, missing</text>\n",
       "</g>\n",
       "<!-- 2 -->\n",
       "<g id=\"node3\" class=\"node\">\n",
       "<title>2</title>\n",
       "<polygon fill=\"none\" stroke=\"#000000\" points=\"268,-36 149,-36 149,0 268,0 268,-36\"/>\n",
       "<text text-anchor=\"middle\" x=\"208.5\" y=\"-14.3\" font-family=\"Times,serif\" font-size=\"14.00\" fill=\"#000000\">leaf=0.122448981</text>\n",
       "</g>\n",
       "<!-- 0&#45;&gt;2 -->\n",
       "<g id=\"edge2\" class=\"edge\">\n",
       "<title>0&#45;&gt;2</title>\n",
       "<path fill=\"none\" stroke=\"#ff0000\" d=\"M156.7005,-93.188C162.1641,-85.3474 168.068,-76.8549 173.5,-69 178.9142,-61.1709 184.7752,-52.6491 190.1245,-44.8529\"/>\n",
       "<polygon fill=\"#ff0000\" stroke=\"#ff0000\" points=\"193.128,-46.6616 195.8955,-36.4346 187.3544,-42.7036 193.128,-46.6616\"/>\n",
       "<text text-anchor=\"middle\" x=\"190\" y=\"-57.8\" font-family=\"Times,serif\" font-size=\"14.00\" fill=\"#000000\">no</text>\n",
       "</g>\n",
       "</g>\n",
       "</svg>\n"
      ],
      "text/plain": [
       "<graphviz.dot.Digraph at 0x1a1bf9eb00>"
      ]
     },
     "execution_count": 6,
     "metadata": {},
     "output_type": "execute_result"
    }
   ],
   "source": [
    "xgb.to_graphviz(model)"
   ]
  },
  {
   "cell_type": "markdown",
   "metadata": {},
   "source": [
    "booster[0]:\n",
    "0:[f0<0.5] yes=1,no=2,missing=1\n",
    "\t1:leaf=-0.0674157\n",
    "\t2:leaf=0.122449\n",
    "booster[1]:\n",
    "0:[f2<0.5] yes=1,no=2,missing=1\n",
    "\t1:leaf=-0.0674157\n",
    "\t2:leaf=0.122449\n",
    "booster[2]:\n",
    "0:[f1<0.5] yes=1,no=2,missing=1\n",
    "\t1:leaf=-0.0674157\n",
    "\t2:leaf=0.122449\n",
    "booster[3]:\n",
    "0:[f0<0.5] yes=1,no=2,missing=1\n",
    "\t1:leaf=-0.0650523\n",
    "\t2:leaf=0.10941\n",
    "booster[4]:\n",
    "0:[f2<0.5] yes=1,no=2,missing=1\n",
    "\t1:leaf=-0.0650523\n",
    "\t2:leaf=0.10941\n",
    "booster[5]:\n",
    "0:[f1<0.5] yes=1,no=2,missing=1\n",
    "\t1:leaf=-0.0650523\n",
    "\t2:leaf=0.10941"
   ]
  },
  {
   "cell_type": "code",
   "execution_count": 7,
   "metadata": {},
   "outputs": [
    {
     "name": "stdout",
     "output_type": "stream",
     "text": [
      "[[0.41852772 0.29073614 0.29073614]]\n"
     ]
    }
   ],
   "source": [
    "print(model.predict_proba(np.array([[1,0,0]])))"
   ]
  },
  {
   "cell_type": "code",
   "execution_count": 8,
   "metadata": {},
   "outputs": [
    {
     "name": "stdout",
     "output_type": "stream",
     "text": [
      "0.4185277190625621\n",
      "0.29073614046871893\n",
      "0.29073614046871893\n"
     ]
    }
   ],
   "source": [
    "print(np.exp(+0.122449+0.10941)/(np.exp(+0.122449+0.10941)+np.exp(-0.0674157-0.0650523)+np.exp(-0.0674157-0.0650523)))\n",
    "print(np.exp(-0.0674157-0.0650523)/(np.exp(+0.122449+0.10941)+np.exp(-0.0674157-0.0650523)+np.exp(-0.0674157-0.0650523)))\n",
    "print(np.exp(-0.0674157-0.0650523)/(np.exp(+0.122449+0.10941)+np.exp(-0.0674157-0.0650523)+np.exp(-0.0674157-0.0650523)))"
   ]
  },
  {
   "cell_type": "code",
   "execution_count": null,
   "metadata": {},
   "outputs": [],
   "source": []
  }
 ],
 "metadata": {
  "kernelspec": {
   "display_name": "Python 3",
   "language": "python",
   "name": "python3"
  },
  "language_info": {
   "codemirror_mode": {
    "name": "ipython",
    "version": 3
   },
   "file_extension": ".py",
   "mimetype": "text/x-python",
   "name": "python",
   "nbconvert_exporter": "python",
   "pygments_lexer": "ipython3",
   "version": "3.6.8"
  }
 },
 "nbformat": 4,
 "nbformat_minor": 2
}

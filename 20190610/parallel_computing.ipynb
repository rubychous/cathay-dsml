{
 "cells": [
  {
   "cell_type": "code",
   "execution_count": 2,
   "metadata": {},
   "outputs": [],
   "source": [
    "### publish_version\n",
    "import numpy as np\n",
    "from multiprocessing import Pool\n",
    "from tqdm import tqdm\n",
    "from sklearn.preprocessing import MinMaxScaler\n",
    "from sklearn import preprocessing"
   ]
  },
  {
   "cell_type": "code",
   "execution_count": 13,
   "metadata": {
    "scrolled": true
   },
   "outputs": [
    {
     "name": "stdout",
     "output_type": "stream",
     "text": [
      "[2.0, 3.0, 3.5, 2.5, 4.0, 4.5, 5.5, 5.0, 6.0, 6.5]\n"
     ]
    }
   ],
   "source": [
    "### basic_version 1\n",
    "def do(x):\n",
    "    return (x + y)/2\n",
    "\n",
    "def parallel_running(space):\n",
    "    list_a = np.arange(space)\n",
    "    \n",
    "    pool = Pool(processes=2)\n",
    "    done_x = []\n",
    "    for x in pool.imap_unordered(do, list_a):\n",
    "        done_x.append(x)\n",
    "    return done_x\n",
    "    \n",
    "y = 4\n",
    "result_basic = parallel_running(1000)\n",
    "print(result_basic[0:10])"
   ]
  },
  {
   "cell_type": "code",
   "execution_count": 12,
   "metadata": {
    "scrolled": true
   },
   "outputs": [
    {
     "name": "stdout",
     "output_type": "stream",
     "text": [
      "[2.0, 2.5, 3.0, 3.5, 4.0, 4.5, 5.0, 5.5, 6.0, 6.5]\n",
      "[25.0, 26.0, 26.5, 25.5, 27.0, 27.5, 28.0, 28.5, 29.0, 29.5]\n"
     ]
    }
   ],
   "source": [
    "### basic_version 2\n",
    "def do(x):\n",
    "    return (x + y)/2\n",
    "\n",
    "def parallel_running(space):\n",
    "    list_a = np.arange(space)\n",
    "    \n",
    "    pool = Pool(processes=2)\n",
    "    done_x = []\n",
    "    for x in pool.imap_unordered(do, list_a):\n",
    "        done_x.append(x)\n",
    "    return done_x\n",
    "    \n",
    "y = 4\n",
    "result_basic = parallel_running(1000)\n",
    "print(result_basic[0:10])\n",
    "\n",
    "y = 50\n",
    "result_basic = parallel_running(2000)\n",
    "print(result_basic[0:10])"
   ]
  },
  {
   "cell_type": "code",
   "execution_count": 15,
   "metadata": {
    "scrolled": true
   },
   "outputs": [
    {
     "name": "stdout",
     "output_type": "stream",
     "text": [
      "[2.5, 3.0, 3.5, 4.0, 4.5, 5.0, 5.5, 6.0, 6.5, 7.0]\n",
      "\n",
      "[30.0, 30.5, 31.0, 31.5, 32.0, 32.5, 33.0, 34.0, 33.5, 34.5]\n"
     ]
    }
   ],
   "source": [
    "### basic_version 3, adding 'z' variable \n",
    "def do(x):\n",
    "    return (x + y + z)/2\n",
    "\n",
    "def parallel_running(space):\n",
    "    list_a = np.arange(space)\n",
    "    \n",
    "    pool = Pool(processes=2)\n",
    "    done_x = []\n",
    "    for x in pool.imap_unordered(do, list_a):\n",
    "        done_x.append(x)\n",
    "    return done_x\n",
    "    \n",
    "y = 4\n",
    "z = 1\n",
    "result_basic = parallel_running(100)\n",
    "print(result_basic[0:10])\n",
    "\n",
    "print()\n",
    "\n",
    "y = 50\n",
    "z = 10\n",
    "result_basic = parallel_running(100)\n",
    "print(result_basic[0:10])"
   ]
  },
  {
   "cell_type": "code",
   "execution_count": 17,
   "metadata": {},
   "outputs": [
    {
     "name": "stdout",
     "output_type": "stream",
     "text": [
      "[-12, -11, -10, -8, -9, -7, -6, -5, -4, -3]\n"
     ]
    }
   ],
   "source": [
    "# modified version 1, adding global func (called parallel only once)\n",
    "def do(x, y, z):\n",
    "    return (x + y + z)\n",
    "\n",
    "def parallel_running(space, y, z):\n",
    "        \n",
    "    list_a = np.arange(space)\n",
    "    pool = Pool(processes=2)\n",
    "    \n",
    "    global middle_fun\n",
    "    def middle_fun(self):\n",
    "        result = do(self, y, z)\n",
    "        return result\n",
    "    \n",
    "    done_x = []\n",
    "    for x in pool.imap_unordered(middle_fun, list_a):\n",
    "        done_x.append(x)\n",
    "    return done_x\n",
    "\n",
    "result_basic2 = parallel_running(100,-10,-2)\n",
    "print(result_basic2[0:10])"
   ]
  },
  {
   "cell_type": "code",
   "execution_count": 18,
   "metadata": {
    "scrolled": true
   },
   "outputs": [
    {
     "name": "stdout",
     "output_type": "stream",
     "text": [
      "[-12, -11, -10, -9, -8, -7, -6, -5, -4, -2]\n",
      "[-12, -11, -9, -10, -8, -7, -6, -5, -4, -3]\n"
     ]
    }
   ],
   "source": [
    "# modified version 1, adding global func (called parallel twice or above)\n",
    "def do(x, y, z):\n",
    "    return (x + y + z)\n",
    "\n",
    "def parallel_running(space, y, z):\n",
    "        \n",
    "    list_a = np.arange(space)\n",
    "    pool = Pool(processes=2)\n",
    "    \n",
    "    global middle_fun\n",
    "    def middle_fun(self):\n",
    "        result = do(self, y, z)\n",
    "        return result\n",
    "    \n",
    "    done_x = []\n",
    "    for x in pool.imap_unordered(middle_fun, list_a):\n",
    "        done_x.append(x)\n",
    "    return done_x\n",
    "\n",
    "result_basic2 = parallel_running(100,-10,-2)\n",
    "print(result_basic2[0:10])\n",
    "\n",
    "result_basic2 = parallel_running(100,10,2)\n",
    "print(result_basic2[0:10])"
   ]
  },
  {
   "cell_type": "code",
   "execution_count": 19,
   "metadata": {},
   "outputs": [],
   "source": [
    "# modified version 2, adding imap_unordered_bar func and global func (called parallel twice or above)\n",
    "def imap_unordered_bar(func, args, n_processes = 2): \n",
    "    p = Pool(n_processes)\n",
    "    res_list = []\n",
    "    with tqdm(total = 1, dynamic_ncols=True) as pbar:\n",
    "        for i, res in tqdm(enumerate(p.imap_unordered(func, args)), disable=True):\n",
    "            pbar.update()\n",
    "            res_list.append(res)\n",
    "    pbar.close()\n",
    "    p.close()\n",
    "    p.join()\n",
    "    return res_list"
   ]
  },
  {
   "cell_type": "code",
   "execution_count": 29,
   "metadata": {},
   "outputs": [
    {
     "name": "stderr",
     "output_type": "stream",
     "text": [
      "100it [00:00, 10376.55it/s]          "
     ]
    },
    {
     "name": "stdout",
     "output_type": "stream",
     "text": [
      "1 [403.0, 405.0, 406.0, 407.0, 404.0, 408.0, 409.0, 411.0, 410.0, 412.0]\n"
     ]
    },
    {
     "name": "stderr",
     "output_type": "stream",
     "text": [
      "\n",
      "20it [00:00, 3485.52it/s]            \n"
     ]
    },
    {
     "name": "stdout",
     "output_type": "stream",
     "text": [
      "2 [11.0, 13.0, 14.0, 15.0, 16.0, 17.0, 12.0, 18.0, 19.0, 20.0]\n"
     ]
    }
   ],
   "source": [
    "pool = Pool(processes=2)\n",
    "def cal_fun(y1, x, z):\n",
    "    return y1 + x + z\n",
    "\n",
    "def all_run(y1, space,z):\n",
    "    z = z + 1\n",
    "    global cal_fun_input\n",
    "    def cal_fun_input(self):\n",
    "        result = cal_fun(y1,self[0],z)\n",
    "        return result\n",
    "    \n",
    "    def create_list(space):\n",
    "        list_a = np.zeros((space,2))\n",
    "        list_a[:,0] = np.arange(space)\n",
    "        return list_a\n",
    "    \n",
    "    list_a = create_list(space)\n",
    "    done_x = imap_unordered_bar(cal_fun_input, list_a, 2)\n",
    "    return done_x\n",
    "\n",
    "y2 = 400\n",
    "z = 2\n",
    "result1 = all_run(y2, 100, z)\n",
    "print('1',result1[0:10])\n",
    "\n",
    "y3 = 7\n",
    "z = 3\n",
    "result1 = all_run(y3, 20, z)\n",
    "print('2',result1[0:10])\n"
   ]
  }
 ],
 "metadata": {
  "kernelspec": {
   "display_name": "Python 3",
   "language": "python",
   "name": "python3"
  },
  "language_info": {
   "codemirror_mode": {
    "name": "ipython",
    "version": 3
   },
   "file_extension": ".py",
   "mimetype": "text/x-python",
   "name": "python",
   "nbconvert_exporter": "python",
   "pygments_lexer": "ipython3",
   "version": "3.7.1"
  }
 },
 "nbformat": 4,
 "nbformat_minor": 2
}

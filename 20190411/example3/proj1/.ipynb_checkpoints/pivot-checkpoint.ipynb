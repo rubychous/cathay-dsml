{
 "cells": [
  {
   "cell_type": "markdown",
   "metadata": {},
   "source": [
    "example3:"
   ]
  },
  {
   "cell_type": "code",
   "execution_count": 3,
   "metadata": {
    "scrolled": true
   },
   "outputs": [
    {
     "name": "stdout",
     "output_type": "stream",
     "text": [
      "{'a': 90.50966799187809}\n",
      "1.4142135623730951\n",
      "20.085536923187668\n"
     ]
    }
   ],
   "source": [
    "import mainTask\n",
    "print(mainTask.task1(2))\n",
    "print(mainTask.task2(2))\n",
    "print(mainTask.task3(3))"
   ]
  }
 ],
 "metadata": {
  "kernelspec": {
   "display_name": "Python 3",
   "language": "python",
   "name": "python3"
  },
  "language_info": {
   "codemirror_mode": {
    "name": "ipython",
    "version": 3
   },
   "file_extension": ".py",
   "mimetype": "text/x-python",
   "name": "python",
   "nbconvert_exporter": "python",
   "pygments_lexer": "ipython3",
   "version": "3.7.1"
  }
 },
 "nbformat": 4,
 "nbformat_minor": 2
}
